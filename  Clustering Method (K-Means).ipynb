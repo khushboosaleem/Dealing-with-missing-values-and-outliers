{
 "cells": [
  {
   "cell_type": "markdown",
   "id": "25088169",
   "metadata": {},
   "source": [
    "##  Clustering Method (K-Means)"
   ]
  },
  {
   "cell_type": "raw",
   "id": "cdb060ee",
   "metadata": {},
   "source": [
    "In clustering method, the data divide into clusters, This can be done using K-Means clustering algorithm. Where we specify the number of clusters we want to divide the data into. Then we assign each data point to a cluster. Then we calculate the distance of each data point from the centroid of the cluster it belongs to. Then we remove the data points that are farthest from the centroid of the cluster they belongs to. "
   ]
  },
  {
   "cell_type": "code",
   "execution_count": 1,
   "id": "5ee952f3",
   "metadata": {},
   "outputs": [],
   "source": [
    "# Step 1: Import requried libraries\n",
    "from sklearn.cluster import KMeans"
   ]
  },
  {
   "cell_type": "code",
   "execution_count": 2,
   "id": "abceb598",
   "metadata": {},
   "outputs": [],
   "source": [
    "# Step 2: Create Sample data\n",
    "data = [[2, 2], [3, 3], [3, 4], [30, 30], [31, 31], [32, 32]]"
   ]
  },
  {
   "cell_type": "code",
   "execution_count": 3,
   "id": "1933657e",
   "metadata": {},
   "outputs": [
    {
     "data": {
      "text/plain": [
       "[[2, 2], [3, 3], [3, 4], [30, 30], [31, 31], [32, 32]]"
      ]
     },
     "execution_count": 3,
     "metadata": {},
     "output_type": "execute_result"
    }
   ],
   "source": [
    "data"
   ]
  },
  {
   "cell_type": "code",
   "execution_count": 9,
   "id": "d803d66f",
   "metadata": {},
   "outputs": [
    {
     "data": {
      "text/plain": [
       "KMeans(n_clusters=2)"
      ]
     },
     "execution_count": 9,
     "metadata": {},
     "output_type": "execute_result"
    }
   ],
   "source": [
    "# Step 3: Create a K-means model with two clusters (normal and outlier)\n",
    "\n",
    "kmean = KMeans(n_clusters=2, n_init=10)\n",
    "kmean.fit(data)\n",
    "kmean"
   ]
  },
  {
   "cell_type": "code",
   "execution_count": 8,
   "id": "07182055",
   "metadata": {},
   "outputs": [
    {
     "data": {
      "text/plain": [
       "array([0, 0, 0, 1, 1, 1])"
      ]
     },
     "execution_count": 8,
     "metadata": {},
     "output_type": "execute_result"
    }
   ],
   "source": [
    "# Step 4: predict cluster labels\n",
    "labels = kmean.predict(data)\n",
    "labels"
   ]
  },
  {
   "cell_type": "code",
   "execution_count": 16,
   "id": "1a02ac94",
   "metadata": {},
   "outputs": [
    {
     "data": {
      "text/plain": [
       "[[30, 30], [31, 31], [32, 32]]"
      ]
     },
     "execution_count": 16,
     "metadata": {},
     "output_type": "execute_result"
    }
   ],
   "source": [
    "# Step 5: Identify outliers based on cluster labels\n",
    "outliers = [data[i] for i , labels in enumerate(labels) if labels == 1]\n",
    "outliers"
   ]
  },
  {
   "cell_type": "code",
   "execution_count": 19,
   "id": "f191f345",
   "metadata": {},
   "outputs": [
    {
     "name": "stdout",
     "output_type": "stream",
     "text": [
      "Data: [[2, 2], [3, 3], [3, 4]]\n",
      "************************************************************\n",
      "Outliers: [[30, 30], [31, 31], [32, 32]]\n",
      "************************************************************\n",
      "Data without outliers: [[2, 2], [3, 3], [3, 4]]\n"
     ]
    }
   ],
   "source": [
    "print(\"Data:\", data)\n",
    "print(\"***\" * 20)\n",
    "print(\"Outliers:\", outliers)\n",
    "print(\"***\" * 20)\n",
    "      \n",
    "# Remove outliers\n",
    "data = [data[i] for i, label in enumerate(labels) if label == 0]\n",
    "print(\"Data without outliers:\", data)"
   ]
  },
  {
   "cell_type": "code",
   "execution_count": null,
   "id": "96523f96",
   "metadata": {},
   "outputs": [],
   "source": []
  }
 ],
 "metadata": {
  "kernelspec": {
   "display_name": "Python 3 (ipykernel)",
   "language": "python",
   "name": "python3"
  },
  "language_info": {
   "codemirror_mode": {
    "name": "ipython",
    "version": 3
   },
   "file_extension": ".py",
   "mimetype": "text/x-python",
   "name": "python",
   "nbconvert_exporter": "python",
   "pygments_lexer": "ipython3",
   "version": "3.9.12"
  }
 },
 "nbformat": 4,
 "nbformat_minor": 5
}
