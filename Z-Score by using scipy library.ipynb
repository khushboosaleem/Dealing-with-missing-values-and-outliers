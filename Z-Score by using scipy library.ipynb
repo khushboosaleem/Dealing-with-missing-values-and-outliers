{
 "cells": [
  {
   "cell_type": "code",
   "execution_count": 1,
   "id": "50319236",
   "metadata": {},
   "outputs": [],
   "source": [
    "# Import libraries\n",
    "import numpy as np \n",
    "from scipy import stats"
   ]
  },
  {
   "cell_type": "code",
   "execution_count": 2,
   "id": "fceb3b22",
   "metadata": {},
   "outputs": [
    {
     "data": {
      "text/plain": [
       "[2.5, 2.7, 2.8, 3.0, 3.2, 3.4, 3.6, 3.8, 4.0, 110.0]"
      ]
     },
     "execution_count": 2,
     "metadata": {},
     "output_type": "execute_result"
    }
   ],
   "source": [
    "# Create Sample data\n",
    "data = [2.5,2.7,2.8,3.0,3.2,3.4,3.6,3.8,4.0,110.0]\n",
    "data"
   ]
  },
  {
   "cell_type": "code",
   "execution_count": 3,
   "id": "380942f7",
   "metadata": {},
   "outputs": [
    {
     "data": {
      "text/plain": [
       "array([0.35584227, 0.34959942, 0.346478  , 0.34023515, 0.3339923 ,\n",
       "       0.32774946, 0.32150661, 0.31526376, 0.30902092, 2.99968787])"
      ]
     },
     "execution_count": 3,
     "metadata": {},
     "output_type": "execute_result"
    }
   ],
   "source": [
    "# Calculate the Z-score for each data point\n",
    "# Assuming 'data' is a NumPy array or a similar data structure\n",
    "\n",
    "# Calculate the z-scores for each data point in the 'data' array\n",
    "z_scores = np.abs(stats.zscore(data))\n",
    "\n",
    "# The z-scores represent the number of standard deviations a data point is from the mean\n",
    "# np.abs() is used to get the absolute values of the z-scores\n",
    "\n",
    "# 'z_scores' now contains the computed z-scores for each element in the 'data' array\n"
   ]
  },
  {
   "cell_type": "code",
   "execution_count": 6,
   "id": "bfa07877",
   "metadata": {},
   "outputs": [
    {
     "data": {
      "text/plain": [
       "array([9], dtype=int64)"
      ]
     },
     "execution_count": 6,
     "metadata": {},
     "output_type": "execute_result"
    }
   ],
   "source": [
    "# Set a threshold for identifying outliers\n",
    "threshold = 2.5\n",
    "outliers = np.where(z_scores > threshold)[0]\n",
    "outliers"
   ]
  },
  {
   "cell_type": "code",
   "execution_count": 17,
   "id": "a9f67304",
   "metadata": {},
   "outputs": [
    {
     "data": {
      "text/plain": [
       "[2.5, 2.7, 2.8, 3.0, 3.2, 3.4, 3.6, 3.8, 4.0]"
      ]
     },
     "execution_count": 17,
     "metadata": {},
     "output_type": "execute_result"
    }
   ],
   "source": [
    "data_without_outliers = [data[i] for i in range(len(data)) if i not in outliers]\n",
    "data_without_outliers"
   ]
  },
  {
   "cell_type": "code",
   "execution_count": 14,
   "id": "81a4fefc",
   "metadata": {},
   "outputs": [
    {
     "data": {
      "text/plain": [
       "10"
      ]
     },
     "execution_count": 14,
     "metadata": {},
     "output_type": "execute_result"
    }
   ],
   "source": [
    "len(data)"
   ]
  },
  {
   "cell_type": "code",
   "execution_count": 20,
   "id": "d39fef3b",
   "metadata": {},
   "outputs": [
    {
     "name": "stdout",
     "output_type": "stream",
     "text": [
      "Data [2.5, 2.7, 2.8, 3.0, 3.2, 3.4, 3.6, 3.8, 4.0, 110.0]\n",
      "------------------------------\n",
      "Indices of outliers [9]\n",
      "------------------------------\n",
      "Outliers [110.0]\n",
      "------------------------------\n",
      "Data without outliers [2.5, 2.7, 2.8, 3.0, 3.2, 3.4, 3.6, 3.8, 4.0]\n",
      "------------------------------\n"
     ]
    }
   ],
   "source": [
    "# print the data\n",
    "print(\"Data\" , data)\n",
    "print(\"---\"*10)\n",
    "\n",
    "print(\"Indices of outliers\" , outliers)\n",
    "print(\"---\"*10)\n",
    "\n",
    "print(\"Outliers\" , [data[i] for i in outliers])\n",
    "print(\"---\"*10)\n",
    "\n",
    "print(\"Data without outliers\" , data_without_outliers)\n",
    "print(\"---\"*10)"
   ]
  }
 ],
 "metadata": {
  "kernelspec": {
   "display_name": "Python 3 (ipykernel)",
   "language": "python",
   "name": "python3"
  },
  "language_info": {
   "codemirror_mode": {
    "name": "ipython",
    "version": 3
   },
   "file_extension": ".py",
   "mimetype": "text/x-python",
   "name": "python",
   "nbconvert_exporter": "python",
   "pygments_lexer": "ipython3",
   "version": "3.9.12"
  }
 },
 "nbformat": 4,
 "nbformat_minor": 5
}
